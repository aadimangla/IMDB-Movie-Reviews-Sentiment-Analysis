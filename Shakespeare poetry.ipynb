{
 "cells": [
  {
   "cell_type": "code",
   "execution_count": 0,
   "metadata": {
    "colab": {},
    "colab_type": "code",
    "id": "zX4Kg8DUTKWO"
   },
   "outputs": [],
   "source": []
  },
  {
   "cell_type": "code",
   "execution_count": 0,
   "metadata": {
    "colab": {},
    "colab_type": "code",
    "id": "BOwsuGQQY9OL"
   },
   "outputs": [],
   "source": [
    "from tensorflow.keras.preprocessing.sequence import pad_sequences\n",
    "from tensorflow.keras.layers import Embedding, LSTM, Dense, Dropout, Bidirectional\n",
    "from tensorflow.keras.preprocessing.text import Tokenizer\n",
    "from tensorflow.keras.models import Sequential\n",
    "from tensorflow.keras.optimizers import Adam\n",
    "from tensorflow.keras import regularizers\n",
    "import tensorflow.keras.utils as ku \n",
    "import numpy as np "
   ]
  },
  {
   "cell_type": "code",
   "execution_count": 2,
   "metadata": {
    "colab": {
     "base_uri": "https://localhost:8080/",
     "height": 202
    },
    "colab_type": "code",
    "id": "PRnDnCW-Z7qv",
    "outputId": "65287235-5cef-405d-9861-13994ca653fd"
   },
   "outputs": [
    {
     "name": "stdout",
     "output_type": "stream",
     "text": [
      "--2020-04-13 15:23:34--  https://storage.googleapis.com/laurencemoroney-blog.appspot.com/sonnets.txt\n",
      "Resolving storage.googleapis.com (storage.googleapis.com)... 74.125.204.128, 2404:6800:4008:c07::80\n",
      "Connecting to storage.googleapis.com (storage.googleapis.com)|74.125.204.128|:443... connected.\n",
      "HTTP request sent, awaiting response... 200 OK\n",
      "Length: 93578 (91K) [text/plain]\n",
      "Saving to: ‘/tmp/sonnets.txt’\n",
      "\n",
      "\r",
      "/tmp/sonnets.txt      0%[                    ]       0  --.-KB/s               \r",
      "/tmp/sonnets.txt    100%[===================>]  91.38K  --.-KB/s    in 0.001s  \n",
      "\n",
      "2020-04-13 15:23:34 (130 MB/s) - ‘/tmp/sonnets.txt’ saved [93578/93578]\n",
      "\n"
     ]
    }
   ],
   "source": [
    "tokenizer = Tokenizer()\n",
    "!wget --no-check-certificate \\\n",
    "    https://storage.googleapis.com/laurencemoroney-blog.appspot.com/sonnets.txt \\\n",
    "    -O /tmp/sonnets.txt\n",
    "data = open('/tmp/sonnets.txt').read()\n",
    "\n",
    "corpus = data.lower().split(\"\\n\")\n",
    "\n",
    "\n",
    "tokenizer.fit_on_texts(corpus)\n",
    "total_words = len(tokenizer.word_index) + 1\n",
    "\n",
    "# create input sequences using list of tokens\n",
    "input_sequences = []\n",
    "for line in corpus:\n",
    "\ttoken_list = tokenizer.texts_to_sequences([line])[0]\n",
    "\tfor i in range(1, len(token_list)):\n",
    "\t\tn_gram_sequence = token_list[:i+1]\n",
    "\t\tinput_sequences.append(n_gram_sequence)\n",
    "\n",
    "\n",
    "# pad sequences \n",
    "max_sequence_len = max([len(x) for x in input_sequences])\n",
    "input_sequences = np.array(pad_sequences(input_sequences, maxlen=max_sequence_len, padding='pre'))\n",
    "\n",
    "# create predictors and label\n",
    "predictors, label = input_sequences[:,:-1],input_sequences[:,-1]\n",
    "\n",
    "label = ku.to_categorical(label, num_classes=total_words)"
   ]
  },
  {
   "cell_type": "code",
   "execution_count": 3,
   "metadata": {
    "colab": {
     "base_uri": "https://localhost:8080/",
     "height": 370
    },
    "colab_type": "code",
    "id": "w9vH8Y59ajYL",
    "outputId": "1bf072a2-a0f7-4ce6-e312-9e1794f83666"
   },
   "outputs": [
    {
     "name": "stdout",
     "output_type": "stream",
     "text": [
      "Model: \"sequential\"\n",
      "_________________________________________________________________\n",
      "Layer (type)                 Output Shape              Param #   \n",
      "=================================================================\n",
      "embedding (Embedding)        (None, 10, 100)           321100    \n",
      "_________________________________________________________________\n",
      "bidirectional (Bidirectional (None, 10, 300)           301200    \n",
      "_________________________________________________________________\n",
      "dropout (Dropout)            (None, 10, 300)           0         \n",
      "_________________________________________________________________\n",
      "lstm_1 (LSTM)                (None, 100)               160400    \n",
      "_________________________________________________________________\n",
      "dense (Dense)                (None, 1605)              162105    \n",
      "_________________________________________________________________\n",
      "dense_1 (Dense)              (None, 3211)              5156866   \n",
      "=================================================================\n",
      "Total params: 6,101,671\n",
      "Trainable params: 6,101,671\n",
      "Non-trainable params: 0\n",
      "_________________________________________________________________\n",
      "None\n"
     ]
    }
   ],
   "source": [
    "model = Sequential()\n",
    "model.add(Embedding(total_words, 100, input_length=max_sequence_len-1))\n",
    "model.add(Bidirectional(LSTM(150, return_sequences = True)))\n",
    "model.add(Dropout(0.2))\n",
    "model.add(LSTM(100))\n",
    "model.add(Dense(total_words/2, activation='relu', kernel_regularizer=regularizers.l2(0.01)))\n",
    "model.add(Dense(total_words, activation='softmax'))\n",
    "model.compile(loss='categorical_crossentropy', optimizer='adam', metrics=['accuracy'])\n",
    "print(model.summary())\n"
   ]
  },
  {
   "cell_type": "code",
   "execution_count": 4,
   "metadata": {
    "colab": {
     "base_uri": "https://localhost:8080/",
     "height": 1000
    },
    "colab_type": "code",
    "id": "AIg2f1HBxqof",
    "outputId": "f385c262-7b46-4c6a-9c4e-2625883be944"
   },
   "outputs": [
    {
     "name": "stdout",
     "output_type": "stream",
     "text": [
      "Epoch 1/100\n",
      "484/484 [==============================] - 5s 10ms/step - loss: 6.9055 - accuracy: 0.0205\n",
      "Epoch 2/100\n",
      "484/484 [==============================] - 5s 10ms/step - loss: 6.4983 - accuracy: 0.0239\n",
      "Epoch 3/100\n",
      "484/484 [==============================] - 5s 10ms/step - loss: 6.3942 - accuracy: 0.0237\n",
      "Epoch 4/100\n",
      "484/484 [==============================] - 5s 10ms/step - loss: 6.2721 - accuracy: 0.0299\n",
      "Epoch 5/100\n",
      "484/484 [==============================] - 5s 10ms/step - loss: 6.1864 - accuracy: 0.0362\n",
      "Epoch 6/100\n",
      "484/484 [==============================] - 5s 10ms/step - loss: 6.1121 - accuracy: 0.0400\n",
      "Epoch 7/100\n",
      "484/484 [==============================] - 5s 10ms/step - loss: 6.0314 - accuracy: 0.0419\n",
      "Epoch 8/100\n",
      "484/484 [==============================] - 5s 10ms/step - loss: 5.9536 - accuracy: 0.0464\n",
      "Epoch 9/100\n",
      "484/484 [==============================] - 5s 10ms/step - loss: 5.8521 - accuracy: 0.0516\n",
      "Epoch 10/100\n",
      "484/484 [==============================] - 5s 10ms/step - loss: 5.7521 - accuracy: 0.0556\n",
      "Epoch 11/100\n",
      "484/484 [==============================] - 5s 10ms/step - loss: 5.6563 - accuracy: 0.0619\n",
      "Epoch 12/100\n",
      "484/484 [==============================] - 5s 10ms/step - loss: 5.5634 - accuracy: 0.0666\n",
      "Epoch 13/100\n",
      "484/484 [==============================] - 5s 10ms/step - loss: 5.4723 - accuracy: 0.0705\n",
      "Epoch 14/100\n",
      "484/484 [==============================] - 5s 10ms/step - loss: 5.3826 - accuracy: 0.0779\n",
      "Epoch 15/100\n",
      "484/484 [==============================] - 5s 10ms/step - loss: 5.2742 - accuracy: 0.0844\n",
      "Epoch 16/100\n",
      "484/484 [==============================] - 5s 10ms/step - loss: 5.1768 - accuracy: 0.0915\n",
      "Epoch 17/100\n",
      "484/484 [==============================] - 5s 10ms/step - loss: 5.0781 - accuracy: 0.0979\n",
      "Epoch 18/100\n",
      "484/484 [==============================] - 5s 10ms/step - loss: 4.9740 - accuracy: 0.1101\n",
      "Epoch 19/100\n",
      "484/484 [==============================] - 5s 10ms/step - loss: 4.8732 - accuracy: 0.1164\n",
      "Epoch 20/100\n",
      "484/484 [==============================] - 5s 10ms/step - loss: 4.7747 - accuracy: 0.1261\n",
      "Epoch 21/100\n",
      "484/484 [==============================] - 5s 10ms/step - loss: 4.6717 - accuracy: 0.1364\n",
      "Epoch 22/100\n",
      "484/484 [==============================] - 5s 10ms/step - loss: 4.5671 - accuracy: 0.1481\n",
      "Epoch 23/100\n",
      "484/484 [==============================] - 5s 10ms/step - loss: 4.4530 - accuracy: 0.1610\n",
      "Epoch 24/100\n",
      "484/484 [==============================] - 5s 10ms/step - loss: 4.3531 - accuracy: 0.1738\n",
      "Epoch 25/100\n",
      "484/484 [==============================] - 5s 10ms/step - loss: 4.2525 - accuracy: 0.1846\n",
      "Epoch 26/100\n",
      "484/484 [==============================] - 5s 10ms/step - loss: 4.1503 - accuracy: 0.2006\n",
      "Epoch 27/100\n",
      "484/484 [==============================] - 5s 10ms/step - loss: 4.0514 - accuracy: 0.2099\n",
      "Epoch 28/100\n",
      "484/484 [==============================] - 5s 10ms/step - loss: 3.9520 - accuracy: 0.2227\n",
      "Epoch 29/100\n",
      "484/484 [==============================] - 5s 10ms/step - loss: 3.8557 - accuracy: 0.2385\n",
      "Epoch 30/100\n",
      "484/484 [==============================] - 5s 10ms/step - loss: 3.7664 - accuracy: 0.2557\n",
      "Epoch 31/100\n",
      "484/484 [==============================] - 5s 10ms/step - loss: 3.6705 - accuracy: 0.2747\n",
      "Epoch 32/100\n",
      "484/484 [==============================] - 5s 10ms/step - loss: 3.5791 - accuracy: 0.2914\n",
      "Epoch 33/100\n",
      "484/484 [==============================] - 5s 10ms/step - loss: 3.4924 - accuracy: 0.3115\n",
      "Epoch 34/100\n",
      "484/484 [==============================] - 5s 10ms/step - loss: 3.4111 - accuracy: 0.3265\n",
      "Epoch 35/100\n",
      "484/484 [==============================] - 5s 10ms/step - loss: 3.3371 - accuracy: 0.3421\n",
      "Epoch 36/100\n",
      "484/484 [==============================] - 5s 10ms/step - loss: 3.2465 - accuracy: 0.3648\n",
      "Epoch 37/100\n",
      "484/484 [==============================] - 5s 10ms/step - loss: 3.1655 - accuracy: 0.3787\n",
      "Epoch 38/100\n",
      "484/484 [==============================] - 5s 10ms/step - loss: 3.0974 - accuracy: 0.3973\n",
      "Epoch 39/100\n",
      "484/484 [==============================] - 5s 10ms/step - loss: 3.0156 - accuracy: 0.4129\n",
      "Epoch 40/100\n",
      "484/484 [==============================] - 5s 10ms/step - loss: 2.9507 - accuracy: 0.4316\n",
      "Epoch 41/100\n",
      "484/484 [==============================] - 5s 10ms/step - loss: 2.8838 - accuracy: 0.4453\n",
      "Epoch 42/100\n",
      "484/484 [==============================] - 5s 10ms/step - loss: 2.8300 - accuracy: 0.4534\n",
      "Epoch 43/100\n",
      "484/484 [==============================] - 5s 11ms/step - loss: 2.7736 - accuracy: 0.4684\n",
      "Epoch 44/100\n",
      "484/484 [==============================] - 5s 11ms/step - loss: 2.7016 - accuracy: 0.4813\n",
      "Epoch 45/100\n",
      "484/484 [==============================] - 5s 10ms/step - loss: 2.6341 - accuracy: 0.5008\n",
      "Epoch 46/100\n",
      "484/484 [==============================] - 5s 10ms/step - loss: 2.5798 - accuracy: 0.5108\n",
      "Epoch 47/100\n",
      "484/484 [==============================] - 5s 10ms/step - loss: 2.5262 - accuracy: 0.5217\n",
      "Epoch 48/100\n",
      "484/484 [==============================] - 5s 10ms/step - loss: 2.4649 - accuracy: 0.5342\n",
      "Epoch 49/100\n",
      "484/484 [==============================] - 5s 10ms/step - loss: 2.4257 - accuracy: 0.5477\n",
      "Epoch 50/100\n",
      "484/484 [==============================] - 5s 10ms/step - loss: 2.3787 - accuracy: 0.5583\n",
      "Epoch 51/100\n",
      "484/484 [==============================] - 5s 10ms/step - loss: 2.3209 - accuracy: 0.5676\n",
      "Epoch 52/100\n",
      "484/484 [==============================] - 5s 10ms/step - loss: 2.2643 - accuracy: 0.5819\n",
      "Epoch 53/100\n",
      "484/484 [==============================] - 5s 10ms/step - loss: 2.2300 - accuracy: 0.5876\n",
      "Epoch 54/100\n",
      "484/484 [==============================] - 5s 10ms/step - loss: 2.1882 - accuracy: 0.5999\n",
      "Epoch 55/100\n",
      "484/484 [==============================] - 5s 10ms/step - loss: 2.1475 - accuracy: 0.6087\n",
      "Epoch 56/100\n",
      "484/484 [==============================] - 5s 10ms/step - loss: 2.0910 - accuracy: 0.6178\n",
      "Epoch 57/100\n",
      "484/484 [==============================] - 5s 10ms/step - loss: 2.0709 - accuracy: 0.6218\n",
      "Epoch 58/100\n",
      "484/484 [==============================] - 5s 10ms/step - loss: 2.0273 - accuracy: 0.6325\n",
      "Epoch 59/100\n",
      "484/484 [==============================] - 5s 10ms/step - loss: 1.9891 - accuracy: 0.6409\n",
      "Epoch 60/100\n",
      "484/484 [==============================] - 5s 11ms/step - loss: 1.9540 - accuracy: 0.6475\n",
      "Epoch 61/100\n",
      "484/484 [==============================] - 5s 10ms/step - loss: 1.9178 - accuracy: 0.6557\n",
      "Epoch 62/100\n",
      "484/484 [==============================] - 5s 10ms/step - loss: 1.8748 - accuracy: 0.6636\n",
      "Epoch 63/100\n",
      "484/484 [==============================] - 5s 10ms/step - loss: 1.8422 - accuracy: 0.6718\n",
      "Epoch 64/100\n",
      "484/484 [==============================] - 5s 10ms/step - loss: 1.8142 - accuracy: 0.6787\n",
      "Epoch 65/100\n",
      "484/484 [==============================] - 5s 10ms/step - loss: 1.7803 - accuracy: 0.6868\n",
      "Epoch 66/100\n",
      "484/484 [==============================] - 5s 10ms/step - loss: 1.7612 - accuracy: 0.6867\n",
      "Epoch 67/100\n",
      "484/484 [==============================] - 5s 10ms/step - loss: 1.7415 - accuracy: 0.6885\n",
      "Epoch 68/100\n",
      "484/484 [==============================] - 5s 10ms/step - loss: 1.7242 - accuracy: 0.6894\n",
      "Epoch 69/100\n",
      "484/484 [==============================] - 5s 10ms/step - loss: 1.6808 - accuracy: 0.7058\n",
      "Epoch 70/100\n",
      "484/484 [==============================] - 5s 10ms/step - loss: 1.6455 - accuracy: 0.7121\n",
      "Epoch 71/100\n",
      "484/484 [==============================] - 5s 10ms/step - loss: 1.6225 - accuracy: 0.7171\n",
      "Epoch 72/100\n",
      "484/484 [==============================] - 5s 10ms/step - loss: 1.5956 - accuracy: 0.7187\n",
      "Epoch 73/100\n",
      "484/484 [==============================] - 5s 10ms/step - loss: 1.5835 - accuracy: 0.7218\n",
      "Epoch 74/100\n",
      "484/484 [==============================] - 5s 10ms/step - loss: 1.5515 - accuracy: 0.7300\n",
      "Epoch 75/100\n",
      "484/484 [==============================] - 5s 10ms/step - loss: 1.5418 - accuracy: 0.7314\n",
      "Epoch 76/100\n",
      "484/484 [==============================] - 5s 10ms/step - loss: 1.5268 - accuracy: 0.7333\n",
      "Epoch 77/100\n",
      "484/484 [==============================] - 5s 10ms/step - loss: 1.4872 - accuracy: 0.7451\n",
      "Epoch 78/100\n",
      "484/484 [==============================] - 5s 10ms/step - loss: 1.4730 - accuracy: 0.7437\n",
      "Epoch 79/100\n",
      "484/484 [==============================] - 5s 10ms/step - loss: 1.4612 - accuracy: 0.7471\n",
      "Epoch 80/100\n",
      "484/484 [==============================] - 5s 10ms/step - loss: 1.4433 - accuracy: 0.7480\n",
      "Epoch 81/100\n",
      "484/484 [==============================] - 5s 10ms/step - loss: 1.4318 - accuracy: 0.7509\n",
      "Epoch 82/100\n",
      "484/484 [==============================] - 5s 10ms/step - loss: 1.4003 - accuracy: 0.7601\n",
      "Epoch 83/100\n",
      "484/484 [==============================] - 5s 10ms/step - loss: 1.3878 - accuracy: 0.7601\n",
      "Epoch 84/100\n",
      "484/484 [==============================] - 5s 10ms/step - loss: 1.3600 - accuracy: 0.7650\n",
      "Epoch 85/100\n",
      "484/484 [==============================] - 5s 10ms/step - loss: 1.3509 - accuracy: 0.7687\n",
      "Epoch 86/100\n",
      "484/484 [==============================] - 5s 10ms/step - loss: 1.3280 - accuracy: 0.7713\n",
      "Epoch 87/100\n",
      "484/484 [==============================] - 5s 10ms/step - loss: 1.3154 - accuracy: 0.7728\n",
      "Epoch 88/100\n",
      "484/484 [==============================] - 5s 10ms/step - loss: 1.3071 - accuracy: 0.7745\n",
      "Epoch 89/100\n",
      "484/484 [==============================] - 5s 10ms/step - loss: 1.3020 - accuracy: 0.7753\n",
      "Epoch 90/100\n",
      "484/484 [==============================] - 5s 10ms/step - loss: 1.2764 - accuracy: 0.7810\n",
      "Epoch 91/100\n",
      "484/484 [==============================] - 5s 10ms/step - loss: 1.2709 - accuracy: 0.7807\n",
      "Epoch 92/100\n",
      "484/484 [==============================] - 5s 10ms/step - loss: 1.2587 - accuracy: 0.7838\n",
      "Epoch 93/100\n",
      "484/484 [==============================] - 5s 10ms/step - loss: 1.2549 - accuracy: 0.7820\n",
      "Epoch 94/100\n",
      "484/484 [==============================] - 5s 10ms/step - loss: 1.2288 - accuracy: 0.7884\n",
      "Epoch 95/100\n",
      "484/484 [==============================] - 5s 10ms/step - loss: 1.2162 - accuracy: 0.7912\n",
      "Epoch 96/100\n",
      "484/484 [==============================] - 5s 10ms/step - loss: 1.2033 - accuracy: 0.7923\n",
      "Epoch 97/100\n",
      "484/484 [==============================] - 5s 10ms/step - loss: 1.2025 - accuracy: 0.7929\n",
      "Epoch 98/100\n",
      "484/484 [==============================] - 5s 10ms/step - loss: 1.1857 - accuracy: 0.7945\n",
      "Epoch 99/100\n",
      "484/484 [==============================] - 5s 10ms/step - loss: 1.1675 - accuracy: 0.7975\n",
      "Epoch 100/100\n",
      "484/484 [==============================] - 5s 10ms/step - loss: 1.1619 - accuracy: 0.8020\n"
     ]
    }
   ],
   "source": [
    " history = model.fit(predictors, label, epochs=100, verbose=1)"
   ]
  },
  {
   "cell_type": "code",
   "execution_count": 5,
   "metadata": {
    "colab": {
     "base_uri": "https://localhost:8080/",
     "height": 545
    },
    "colab_type": "code",
    "id": "1fXTEO3GJ282",
    "outputId": "b22db477-d8bc-4c62-f750-2bb44aa8aad5"
   },
   "outputs": [
    {
     "data": {
      "image/png": "[encoded data removed]",
      "text/plain": [
       "<Figure size 432x288 with 1 Axes>"
      ]
     },
     "metadata": {
      "needs_background": "light",
      "tags": []
     },
     "output_type": "display_data"
    },
    {
     "data": {
      "image/png": "[encoded data removed]",
      "text/plain": [
       "<Figure size 432x288 with 1 Axes>"
      ]
     },
     "metadata": {
      "needs_background": "light",
      "tags": []
     },
     "output_type": "display_data"
    }
   ],
   "source": [
    "import matplotlib.pyplot as plt\n",
    "acc = history.history['accuracy']\n",
    "loss = history.history['loss']\n",
    "\n",
    "epochs = range(len(acc))\n",
    "\n",
    "plt.plot(epochs, acc, 'b', label='Training accuracy')\n",
    "plt.title('Training accuracy')\n",
    "\n",
    "plt.figure()\n",
    "\n",
    "plt.plot(epochs, loss, 'b', label='Training Loss')\n",
    "plt.title('Training loss')\n",
    "plt.legend()\n",
    "\n",
    "plt.show()"
   ]
  },
  {
   "cell_type": "code",
   "execution_count": 7,
   "metadata": {
    "colab": {
     "base_uri": "https://localhost:8080/",
     "height": 54
    },
    "colab_type": "code",
    "id": "6Vc6PHgxa6Hm",
    "outputId": "a6210a8e-1bcd-4e82-af53-ffd4bd1f36f3"
   },
   "outputs": [
    {
     "name": "stdout",
     "output_type": "stream",
     "text": [
      "I Love you never mark though i am young time chide last chide seen held held small moan forth torn forth back thence another needing woe brow go wrong spent grow leaves mad mad spies plot warm'd dwells sounds hits deem'd survey grow leaves new gone so dear praise twain twain told time new bright wrong did blot in mayst but bear art grow behind lie from me find make behind shame groan ' make that sky erred dispense did spend tuned spent might spend stand long short burn'd burn'd dun dun did make forth forth cherish mad forth mad seen seen reap\n"
     ]
    }
   ],
   "source": [
    "seed_text = \"I Love you\"\n",
    "next_words = 100\n",
    "  \n",
    "for _ in range(next_words):\n",
    "\ttoken_list = tokenizer.texts_to_sequences([seed_text])[0]\n",
    "\ttoken_list = pad_sequences([token_list], maxlen=max_sequence_len-1, padding='pre')\n",
    "\tpredicted = model.predict_classes(token_list, verbose=0)\n",
    "\toutput_word = \"\"\n",
    "\tfor word, index in tokenizer.word_index.items():\n",
    "\t\tif index == predicted:\n",
    "\t\t\toutput_word = word\n",
    "\t\t\tbreak\n",
    "\tseed_text += \" \" + output_word\n",
    "print(seed_text)"
   ]
  }
 ],
 "metadata": {
  "accelerator": "GPU",
  "colab": {
   "name": "NLP_Week4_Exercise_Shakespeare_Answer.ipynb",
   "provenance": [],
   "toc_visible": true
  },
  "kernelspec": {
   "display_name": "Python 3",
   "language": "python",
   "name": "python3"
  },
  "language_info": {
   "codemirror_mode": {
    "name": "ipython",
    "version": 3
   },
   "file_extension": ".py",
   "mimetype": "text/x-python",
   "name": "python",
   "nbconvert_exporter": "python",
   "pygments_lexer": "ipython3",
   "version": "3.7.6"
  }
 },
 "nbformat": 4,
 "nbformat_minor": 1
}
